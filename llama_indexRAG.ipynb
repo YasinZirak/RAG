{
 "cells": [
  {
   "cell_type": "code",
   "execution_count": 74,
   "metadata": {},
   "outputs": [
    {
     "data": {
      "text/plain": [
       "True"
      ]
     },
     "execution_count": 74,
     "metadata": {},
     "output_type": "execute_result"
    }
   ],
   "source": [
    "import os\n",
    "import openai\n",
    "import logging\n",
    "import sys\n",
    "\n",
    "from dotenv import load_dotenv\n",
    "from sqlalchemy import create_engine\n",
    "from llama_index.core import download_loader,VectorStoreIndex,PromptTemplate\n",
    "from llama_index.readers.database import DatabaseReader\n",
    "from llama_index.readers.file import PyMuPDFReader\n",
    "from pathlib import Path\n",
    "from IPython.display import Markdown, display\n",
    "from langchain import hub\n",
    "\n",
    "load_dotenv()  "
   ]
  },
  {
   "cell_type": "code",
   "execution_count": 75,
   "metadata": {},
   "outputs": [],
   "source": [
    "connection_string = f\"{os.getenv('DB_SCHEME')}://{os.getenv('DB_USER')}:{os.getenv('DB_PASS')}@{os.getenv('DB_HOST')}/{os.getenv('DB_NAME')}?driver=ODBC+Driver+17+for+SQL+Server\"\n",
    "engine = create_engine(connection_string)\n",
    "db = DatabaseReader(engine)"
   ]
  },
  {
   "cell_type": "code",
   "execution_count": 78,
   "metadata": {},
   "outputs": [
    {
     "name": "stdout",
     "output_type": "stream",
     "text": [
      "[Document(id_='5d28b018-fcf6-475d-8311-476043d6aedc', embedding=None, metadata={}, excluded_embed_metadata_keys=[], excluded_llm_metadata_keys=[], relationships={}, metadata_template='{key}: {value}', metadata_separator='\\n', text_resource=MediaResource(embeddings=None, data=None, text='LastName: Davolio, FirstName: Nancy, Title: Sales Representative', mimetype=None, path=None, url=None), image_resource=None, audio_resource=None, video_resource=None, text_template='{metadata_str}\\n\\n{content}'), Document(id_='8fc63fc4-fdaa-49b3-bc6d-635c79e6342e', embedding=None, metadata={}, excluded_embed_metadata_keys=[], excluded_llm_metadata_keys=[], relationships={}, metadata_template='{key}: {value}', metadata_separator='\\n', text_resource=MediaResource(embeddings=None, data=None, text='LastName: Fuller, FirstName: Andrew, Title: Vice President, Sales', mimetype=None, path=None, url=None), image_resource=None, audio_resource=None, video_resource=None, text_template='{metadata_str}\\n\\n{content}'), Document(id_='729f0969-c4aa-4286-b8f1-e5052ac240e0', embedding=None, metadata={}, excluded_embed_metadata_keys=[], excluded_llm_metadata_keys=[], relationships={}, metadata_template='{key}: {value}', metadata_separator='\\n', text_resource=MediaResource(embeddings=None, data=None, text='LastName: Leverling, FirstName: Janet, Title: Sales Representative', mimetype=None, path=None, url=None), image_resource=None, audio_resource=None, video_resource=None, text_template='{metadata_str}\\n\\n{content}')]\n"
     ]
    }
   ],
   "source": [
    "query = \"\"\"\n",
    "SELECT TOP (3) \n",
    "       [LastName]\n",
    "      ,[FirstName]\n",
    "      ,[Title]\n",
    "  FROM [master].[dbo].[Employees]\n",
    "\"\"\"\n",
    "documents = db.load_data(query=query)\n",
    "print(documents)"
   ]
  },
  {
   "cell_type": "code",
   "execution_count": 44,
   "metadata": {},
   "outputs": [],
   "source": [
    "openai.api_key =  os.getenv('OPENAI_API_KEY')\n",
    "logging.basicConfig(stream = sys.stdout , level = logging.INFO)\n",
    "logging.getLogger().addHandler(logging.StreamHandler(stream = sys.stdout))"
   ]
  },
  {
   "cell_type": "code",
   "execution_count": null,
   "metadata": {},
   "outputs": [
    {
     "name": "stdout",
     "output_type": "stream",
     "text": [
      "[Document(id_='bf0de311-544e-43cf-b8f6-6922e745c0b4', embedding=None, metadata={'total_pages': 1, 'file_path': 'data\\\\test_doc.txt', 'source': '1'}, excluded_embed_metadata_keys=[], excluded_llm_metadata_keys=[], relationships={}, metadata_template='{key}: {value}', metadata_separator='\\n', text_resource=MediaResource(embeddings=None, data=None, text='Run-time steering strategies like Medprompt are\\nvaluable for guiding large language models\\n(LLMs) to top performance on challenging tasks.\\nMedprompt demonstrates that a general LLM\\ncan be focused to deliver state-of-the-art\\nperformance on specialized domains like medicine by\\nusing a prompt to elicit a run-time strategy\\ninvolving chain of thought reasoning and ensembling.\\nOpenAI’s o1-preview model represents a new paradigm,\\nwhere a model is designed to do run-time\\nreasoning before generating final responses. We seek\\nto understand the behavior of o1-preview\\non a diverse set of medical challenge problem\\nbenchmarks. Following on the Medprompt study\\nwith GPT-4, we systematically evaluate the o1-preview\\nmodel across various medical benchmarks.\\nNotably, even without prompting techniques, o1-\\npreview largely outperforms the GPT-4 series with\\nMedprompt. We further systematically study the\\nefficacy of classic prompt engineering strategies,\\nas represented by Medprompt, within the new paradigm\\nof reasoning models. We found that fewshot\\nprompting hinders o1’s performance, suggesting that\\nin-context learning may no longer be\\nan effective steering approach for reasoning-native\\nmodels. While ensembling remains viable, it\\nis resource-intensive and requires careful cost-\\nperformance optimization. Our cost and accuracy\\nanalysis across run-time strategies reveals a Pareto\\nfrontier, with GPT-4o representing a more\\naffordable option and o1-preview achieving state-of-\\nthe-art performance at higher cost. Although\\no1-preview offers top performance, GPT-4o with\\nsteering strategies like Medprompt retains value\\nin specific contexts. Moreover, we note that the o1-\\npreview model has reached near-saturation on\\nmany existing medical benchmarks, underscoring the\\nneed for new, challenging benchmarks. We\\nclose with reflections on general directions for\\ninference-time computation with LLMs.\\n', mimetype=None, path=None, url=None), image_resource=None, audio_resource=None, video_resource=None, text_template='{metadata_str}\\n\\n{content}')]\n"
     ]
    }
   ],
   "source": [
    "# loader = PyMuPDFReader()\n",
    "# documents  = loader.load(r'data\\test_doc.txt')\n",
    "# print(documents)"
   ]
  },
  {
   "cell_type": "code",
   "execution_count": 79,
   "metadata": {},
   "outputs": [
    {
     "data": {
      "text/plain": [
       "[Document(id_='5d28b018-fcf6-475d-8311-476043d6aedc', embedding=None, metadata={}, excluded_embed_metadata_keys=[], excluded_llm_metadata_keys=[], relationships={}, metadata_template='{key}: {value}', metadata_separator='\\n', text_resource=MediaResource(embeddings=None, data=None, text='LastName: Davolio, FirstName: Nancy, Title: Sales Representative', mimetype=None, path=None, url=None), image_resource=None, audio_resource=None, video_resource=None, text_template='{metadata_str}\\n\\n{content}'),\n",
       " Document(id_='8fc63fc4-fdaa-49b3-bc6d-635c79e6342e', embedding=None, metadata={}, excluded_embed_metadata_keys=[], excluded_llm_metadata_keys=[], relationships={}, metadata_template='{key}: {value}', metadata_separator='\\n', text_resource=MediaResource(embeddings=None, data=None, text='LastName: Fuller, FirstName: Andrew, Title: Vice President, Sales', mimetype=None, path=None, url=None), image_resource=None, audio_resource=None, video_resource=None, text_template='{metadata_str}\\n\\n{content}'),\n",
       " Document(id_='729f0969-c4aa-4286-b8f1-e5052ac240e0', embedding=None, metadata={}, excluded_embed_metadata_keys=[], excluded_llm_metadata_keys=[], relationships={}, metadata_template='{key}: {value}', metadata_separator='\\n', text_resource=MediaResource(embeddings=None, data=None, text='LastName: Leverling, FirstName: Janet, Title: Sales Representative', mimetype=None, path=None, url=None), image_resource=None, audio_resource=None, video_resource=None, text_template='{metadata_str}\\n\\n{content}')]"
      ]
     },
     "execution_count": 79,
     "metadata": {},
     "output_type": "execute_result"
    }
   ],
   "source": [
    "documents"
   ]
  },
  {
   "cell_type": "code",
   "execution_count": 80,
   "metadata": {},
   "outputs": [
    {
     "name": "stdout",
     "output_type": "stream",
     "text": [
      "INFO:httpx:HTTP Request: POST https://api.openai.com/v1/embeddings \"HTTP/1.1 200 OK\"\n",
      "HTTP Request: POST https://api.openai.com/v1/embeddings \"HTTP/1.1 200 OK\"\n",
      "HTTP Request: POST https://api.openai.com/v1/embeddings \"HTTP/1.1 200 OK\"\n",
      "HTTP Request: POST https://api.openai.com/v1/embeddings \"HTTP/1.1 200 OK\"\n"
     ]
    }
   ],
   "source": [
    "from llama_index.llms.openai import OpenAI\n",
    "\n",
    "gpt35_llm  = OpenAI(model=\"gpt-3.5-turbo\")\n",
    "index = VectorStoreIndex.from_documents(documents)"
   ]
  },
  {
   "cell_type": "code",
   "execution_count": 81,
   "metadata": {},
   "outputs": [],
   "source": [
    "query_str = \"Tell me Nancys title?\"\n",
    "query_engine  = index.as_query_engine(similarity_top_k=2, llm=gpt35_llm)\n",
    "vector_retriever  = index.as_retriever(similarity_top_k = 2)"
   ]
  },
  {
   "cell_type": "code",
   "execution_count": 82,
   "metadata": {},
   "outputs": [
    {
     "name": "stdout",
     "output_type": "stream",
     "text": [
      "INFO:httpx:HTTP Request: POST https://api.openai.com/v1/embeddings \"HTTP/1.1 200 OK\"\n",
      "HTTP Request: POST https://api.openai.com/v1/embeddings \"HTTP/1.1 200 OK\"\n",
      "HTTP Request: POST https://api.openai.com/v1/embeddings \"HTTP/1.1 200 OK\"\n",
      "HTTP Request: POST https://api.openai.com/v1/embeddings \"HTTP/1.1 200 OK\"\n",
      "INFO:httpx:HTTP Request: POST https://api.openai.com/v1/chat/completions \"HTTP/1.1 200 OK\"\n",
      "HTTP Request: POST https://api.openai.com/v1/chat/completions \"HTTP/1.1 200 OK\"\n",
      "HTTP Request: POST https://api.openai.com/v1/chat/completions \"HTTP/1.1 200 OK\"\n",
      "HTTP Request: POST https://api.openai.com/v1/chat/completions \"HTTP/1.1 200 OK\"\n"
     ]
    }
   ],
   "source": [
    "response = query_engine.query(query_str)"
   ]
  },
  {
   "cell_type": "code",
   "execution_count": 84,
   "metadata": {},
   "outputs": [
    {
     "data": {
      "text/plain": [
       "Response(response='Sales Representative', source_nodes=[NodeWithScore(node=TextNode(id_='36dfbc98-8dc1-4b61-8b6e-c719067e41bc', embedding=None, metadata={}, excluded_embed_metadata_keys=[], excluded_llm_metadata_keys=[], relationships={<NodeRelationship.SOURCE: '1'>: RelatedNodeInfo(node_id='5d28b018-fcf6-475d-8311-476043d6aedc', node_type='4', metadata={}, hash='7fa8d733c8dcd7be4aef10b635cea6fa0f609ea92ced7a0cde9d8ffc0d45acb4')}, metadata_template='{key}: {value}', metadata_separator='\\n', text='LastName: Davolio, FirstName: Nancy, Title: Sales Representative', mimetype='text/plain', start_char_idx=0, end_char_idx=64, metadata_seperator='\\n', text_template='{metadata_str}\\n\\n{content}'), score=0.8287994765996185), NodeWithScore(node=TextNode(id_='002fd2ec-00a1-46db-843d-5be27755ede9', embedding=None, metadata={}, excluded_embed_metadata_keys=[], excluded_llm_metadata_keys=[], relationships={<NodeRelationship.SOURCE: '1'>: RelatedNodeInfo(node_id='729f0969-c4aa-4286-b8f1-e5052ac240e0', node_type='4', metadata={}, hash='64b7e991b62e8f9d8b4b92a8de99d5abcd001f05b59403fdb765ab7222ddcad7')}, metadata_template='{key}: {value}', metadata_separator='\\n', text='LastName: Leverling, FirstName: Janet, Title: Sales Representative', mimetype='text/plain', start_char_idx=0, end_char_idx=66, metadata_seperator='\\n', text_template='{metadata_str}\\n\\n{content}'), score=0.7910836155881562)], metadata={'36dfbc98-8dc1-4b61-8b6e-c719067e41bc': {}, '002fd2ec-00a1-46db-843d-5be27755ede9': {}})"
      ]
     },
     "execution_count": 84,
     "metadata": {},
     "output_type": "execute_result"
    }
   ],
   "source": [
    "response"
   ]
  }
 ],
 "metadata": {
  "kernelspec": {
   "display_name": "Graphrag",
   "language": "python",
   "name": "python3"
  },
  "language_info": {
   "codemirror_mode": {
    "name": "ipython",
    "version": 3
   },
   "file_extension": ".py",
   "mimetype": "text/x-python",
   "name": "python",
   "nbconvert_exporter": "python",
   "pygments_lexer": "ipython3",
   "version": "3.10.15"
  }
 },
 "nbformat": 4,
 "nbformat_minor": 2
}
